{
 "cells": [
  {
   "cell_type": "code",
   "execution_count": 38,
   "metadata": {},
   "outputs": [
    {
     "name": "stdout",
     "output_type": "stream",
     "text": [
      "Whhoops! No such file! Please make sure that you wrote your file name or directory correctly\n"
     ]
    }
   ],
   "source": [
    "\"\"\"\n",
    "Name: Sargis Gasparyan\n",
    "Data: 08.08.2018\n",
    "Purpose: Writing a code which will read an input file (students' number and marks in assignments that they done during semester),\n",
    "         compute the total mark of students and saves the data as output txt file, in a given form. In code all posible\n",
    "         exceptions are taken into account. \n",
    "\"\"\"\n",
    "\n",
    "\n",
    "\n",
    "\n",
    "\n",
    "# import necessary packages\n",
    "from collections import Iterable \n",
    "\n",
    "\n",
    "# creating a function to check the signs of marks e.g. negative or non-negative \n",
    "def flatten(x):\n",
    "    result = []\n",
    "    for el in x:\n",
    "        if hasattr(el, \"__iter__\") and not isinstance(el, str):\n",
    "            result.extend(flatten(el))\n",
    "        else:\n",
    "            result.append(el)\n",
    "    return result\n",
    "# end of the function\n",
    "\n",
    "marks = [] # creats a new empty list for storing marks' data\n",
    "to_check = [] # creats a new empty list for checking numbers' non negativity\n",
    "\n",
    "file_directory = \"C:/Users/user/Desktop/Mher/Freelance Job/mher.txt\" # give directory of an input file(\"student marks.txt\")\n",
    "try: #in order to avoid from throwing a file not found error we use try/except statement\n",
    "    with open(file_directory) as f: \t# opens an input file\n",
    "            content = f.read().splitlines() \t# reads line by line\n",
    "            data=[i.split(\",\") for i in  content]      # splits by comma and stores the data\n",
    "    \n",
    "    for i in data:\n",
    "            nums = i[1:]   # filters only marks\n",
    "            nums = list(map(int,nums))  # converts string format to integer and stores as list'\n",
    "            marks.append(sum(nums)) # appends sum of marks of each student       \n",
    "            to_check.append(nums) \n",
    "    all_marks = list(flatten(to_check)) # adds all marks into the list\n",
    "    if any(mark<0 for mark in all_marks): # checks whether all marks are non negative \n",
    "        print (\"Error: A student's mark cannot be negative: Please check marks in your input file\")\n",
    "\n",
    "    else:\n",
    "\n",
    "        g = open(\"C:/Users/user/Desktop/Mher/Freelance Job/Sargis_Gasparyan.txt\",'w') # creats an output txt file\n",
    "        for i, j in zip(data,marks):\n",
    "            g.write(\"Student Number:\") # writes the first column \n",
    "            g.write(str(i[0])+4*' ')  # writes a column of  students' numbers \n",
    "            g.write(\"Total Marks:\")  # writes the third column\n",
    "            g.write(str(j)) # writes a column of students' total marks\n",
    "            g.write('\\n')  # creates a new line for each student\n",
    "except IOError:    #IOerror will occurre when the file is not found\n",
    "    print (\"Whhoops! No such file! Please make sure that you wrote your file name or directory correctly\")  #when file is not found this message will be printed\n",
    "except:\n",
    "    \n",
    "    print(\"Unexpected Error has occurred\")\n",
    "\n",
    "    "
   ]
  },
  {
   "cell_type": "code",
   "execution_count": null,
   "metadata": {},
   "outputs": [],
   "source": []
  },
  {
   "cell_type": "code",
   "execution_count": null,
   "metadata": {},
   "outputs": [],
   "source": []
  }
 ],
 "metadata": {
  "kernelspec": {
   "display_name": "Python 3",
   "language": "python",
   "name": "python3"
  },
  "language_info": {
   "codemirror_mode": {
    "name": "ipython",
    "version": 3
   },
   "file_extension": ".py",
   "mimetype": "text/x-python",
   "name": "python",
   "nbconvert_exporter": "python",
   "pygments_lexer": "ipython3",
   "version": "3.6.4"
  }
 },
 "nbformat": 4,
 "nbformat_minor": 2
}
